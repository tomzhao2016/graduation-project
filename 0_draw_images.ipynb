{
 "cells": [
  {
   "cell_type": "code",
   "execution_count": 1,
   "metadata": {},
   "outputs": [
    {
     "name": "stderr",
     "output_type": "stream",
     "text": [
      "Using TensorFlow backend.\n"
     ]
    }
   ],
   "source": [
    "import numpy as np\n",
    "import os\n",
    "import matplotlib.pyplot as plt\n",
    "from keras.datasets import mnist"
   ]
  },
  {
   "cell_type": "code",
   "execution_count": 3,
   "metadata": {
    "collapsed": true
   },
   "outputs": [],
   "source": [
    "(x_train,x_train_label),(x_test,x_test_label) = mnist.load_data()\n",
    "# def plot_some(im_list):\n",
    "#     num_list = len(im_list)\n",
    "#     plt.figure(figsize=(3*num_list,4))\n",
    "#     for i, array in enumerate(im_list):\n",
    "#         plt.subplot(1, len(im_list), i+1)\n",
    "#         plt.imshow((array).astype(np.uint8),cmap='gray')\n",
    "#         plt.axis('off')\n",
    "#     plt.show()\n",
    "mnist_dict = {}\n",
    "for ind_test,test_label in enumerate(x_test_label):\n",
    "    if test_label not in mnist_dict.keys():\n",
    "        mnist_dict[test_label] = []\n",
    "        mnist_dict[test_label].append(ind_test)\n",
    "    else:\n",
    "        mnist_dict[test_label].append(ind_test)"
   ]
  },
  {
   "cell_type": "code",
   "execution_count": 6,
   "metadata": {},
   "outputs": [
    {
     "data": {
      "text/plain": [
       "True"
      ]
     },
     "execution_count": 6,
     "metadata": {},
     "output_type": "execute_result"
    }
   ],
   "source": [
    "import cv2\n",
    "for row_ind in range(5):\n",
    "    for ind_digit in range(20):\n",
    "        if ind_digit == 0:    \n",
    "            image_mnist = 255-x_test[mnist_dict[ind_digit][row_ind]]\n",
    "        else:\n",
    "            image_mnist = np.concatenate((image_mnist,255-x_test[mnist_dict[ind_digit%10][row_ind]]),axis=1)\n",
    "    if row_ind ==0:\n",
    "        image_mnists = image_mnist.copy()\n",
    "    else:\n",
    "        image_mnists = np.concatenate((image_mnists,image_mnist),axis=0)\n",
    "cv2.imwrite('mnist_images.png',image_mnists.astype(np.uint8))\n",
    "# plt.imshow(image_mnists.astype(np.uint8),cmap='gray')\n",
    "# plt.axis('off')\n",
    "# plt.show()\n",
    "# plt.tight_layout()\n",
    "# plt.savefig('minst_images')"
   ]
  },
  {
   "cell_type": "code",
   "execution_count": null,
   "metadata": {
    "collapsed": true
   },
   "outputs": [],
   "source": []
  }
 ],
 "metadata": {
  "kernelspec": {
   "display_name": "Python 3",
   "language": "python",
   "name": "python3"
  },
  "language_info": {
   "codemirror_mode": {
    "name": "ipython",
    "version": 3
   },
   "file_extension": ".py",
   "mimetype": "text/x-python",
   "name": "python",
   "nbconvert_exporter": "python",
   "pygments_lexer": "ipython3",
   "version": "3.6.7"
  }
 },
 "nbformat": 4,
 "nbformat_minor": 2
}
